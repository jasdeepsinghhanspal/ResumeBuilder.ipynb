import tkinter as tk
from tkinter import filedialog, messagebox
from PIL import Image, ImageTk
from reportlab.lib.pagesizes import letter
from reportlab.pdfgen import canvas
from reportlab.lib import colors

def generate_resume():
    name = name_entry.get()
    email = email_entry.get()
    phone = phone_entry.get()
    address = address_entry.get("1.0", tk.END).strip()
    education = education_entry.get("1.0", tk.END).strip()
    experience = experience_entry.get("1.0", tk.END).strip()
    
    picture_file = filedialog.askopenfilename(title="Select Profile Picture", filetypes=[("Image files", "*.jpg;*.png")])
    if not picture_file:
        messagebox.showwarning("No picture", "No profile picture selected!")
        return
    
    pdf_file = filedialog.asksaveasfilename(defaultextension=".pdf", filetypes=[("PDF files", "*.pdf")])
    if not pdf_file:
        return
    
    c = canvas.Canvas(pdf_file, pagesize=letter)
    width, height = letter
    
    c.setFillColor(colors.lightgreen)
    c.rect(0, 0, width, height, fill=1)

    try:
        profile_img = Image.open(picture_file)
        profile_img.thumbnail((100, 100))  # Resize image to thumbnail
        img_x, img_y = 400, height - 120  # Position for image
        profile_img.save("temp_profile_pic.png")  # Save as temporary file
        c.drawImage("temp_profile_pic.png", img_x, img_y, width=100, height=100)  # Add image to PDF
    except Exception as e:
        messagebox.showerror("Image Error", f"Error loading image: {str(e)}")
        return
    
    c.setFont("Helvetica", 14)
    c.setFillColor(colors.black)
    c.drawString(100, height - 50, f"Name: {name}")
    c.drawString(100, height - 80, f"Email: {email}")
    c.drawString(100, height - 110, f"Phone: {phone}")
    c.drawString(100, height - 140, f"Address: {address}")
    
    c.setFont("Helvetica-Bold", 16)
    c.drawString(100, height - 180, "Education:")
    c.setFont("Helvetica", 14)
    c.drawString(100, height - 210, education)

    c.setFont("Helvetica-Bold", 16)
    c.drawString(100, height - 260, "Experience:")
    c.setFont("Helvetica", 14)
    c.drawString(100, height - 290, experience)
    
    c.save()
    messagebox.showinfo("Success", "Resume created successfully!")

root = tk.Tk()
root.title("Resume Builder")

tk.Label(root, text="Name:").grid(row=0, column=0, padx=10, pady=5)
name_entry = tk.Entry(root)
name_entry.grid(row=0, column=1, padx=10, pady=5)

tk.Label(root, text="Email:").grid(row=1, column=0, padx=10, pady=5)
email_entry = tk.Entry(root)
email_entry.grid(row=1, column=1, padx=10, pady=5)

tk.Label(root, text="Phone:").grid(row=2, column=0, padx=10, pady=5)
phone_entry = tk.Entry(root)
phone_entry.grid(row=2, column=1, padx=10, pady=5)

tk.Label(root, text="Address:").grid(row=3, column=0, padx=10, pady=5)
address_entry = tk.Text(root, height=3, width=30)
address_entry.grid(row=3, column=1, padx=10, pady=5)

tk.Label(root, text="Education:").grid(row=4, column=0, padx=10, pady=5)
education_entry = tk.Text(root, height=3, width=30)
education_entry.grid(row=4, column=1, padx=10, pady=5)

tk.Label(root, text="Experience:").grid(row=5, column=0, padx=10, pady=5)
experience_entry = tk.Text(root, height=3, width=30)
experience_entry.grid(row=5, column=1, padx=10, pady=5)

generate_button = tk.Button(root, text="Generate Resume", command=generate_resume)
generate_button.grid(row=6, column=1, padx=10, pady=20)

root.mainloop()
