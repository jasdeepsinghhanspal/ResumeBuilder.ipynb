#pip install reportlab

import tkinter as tk
from tkinter import scrolledtext
import numpy as np
import tensorflow as tf

class TextModel(tf.keras.Model):
    def __init__(self):
        super(TextModel, self).__init__()
        self.dense = tf.keras.layers.Dense(1, activation='sigmoid')

    def call(self, inputs):
        return self.dense(inputs)

def load_model():
    model = TextModel()
    model.build(input_shape=(None, 10)) 
    return model
    
def process_text(resume, job_description):
    resume_vector = np.random.rand(1, 10) 
    job_description_vector = np.random.rand(1, 10)  

    model = load_model()
    resume_score = model(tf.convert_to_tensor(resume_vector, dtype=tf.float32))
    job_description_score = model(tf.convert_to_tensor(job_description_vector, dtype=tf.float32))

    if resume_score > job_description_score:
        return resume + "\n\nModified to match job description"
    else:
        return resume + "\n\nAdditional skills added"

class ResumeModifierApp:
    def __init__(self, root):
        self.root = root
        self.root.title("Resume Modifier")

        tk.Label(root, text="Paste your resume:").pack()
        self.resume_text = scrolledtext.ScrolledText(root, width=80, height=20)
        self.resume_text.pack()

        tk.Label(root, text="Paste the job description:").pack()
        self.job_desc_text = scrolledtext.ScrolledText(root, width=80, height=20)
        self.job_desc_text.pack()

        tk.Button(root, text="Modify Resume", command=self.modify_resume).pack()

        tk.Label(root, text="Modified resume:").pack()
        self.output_text = scrolledtext.ScrolledText(root, width=80, height=20)
        self.output_text.pack()

    def modify_resume(self):
        resume = self.resume_text.get("1.0", tk.END)
        job_description = self.job_desc_text.get("1.0", tk.END)
        modified_resume = process_text(resume.strip(), job_description.strip())
        self.output_text.delete("1.0", tk.END)
        self.output_text.insert(tk.END, modified_resume)

if __name__ == "__main__":
    root = tk.Tk()
    app = ResumeModifierApp(root)
    root.mainloop()
